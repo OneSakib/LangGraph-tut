{
 "cells": [
  {
   "cell_type": "code",
   "execution_count": null,
   "id": "43274f21",
   "metadata": {},
   "outputs": [
    {
     "data": {
      "text/plain": [
       "True"
      ]
     },
     "execution_count": 1,
     "metadata": {},
     "output_type": "execute_result"
    }
   ],
   "source": [
    "from langgraph.graph import StateGraph, START, END\n",
    "from langchain_openai import ChatOpenAI\n",
    "from typing import TypedDict\n",
    "from dotenv import load_dotenv\n",
    "load_dotenv()"
   ]
  },
  {
   "cell_type": "code",
   "execution_count": null,
   "id": "a80632ea",
   "metadata": {},
   "outputs": [],
   "source": [
    "model = ChatOpenAI(model=\"gpt-4o\")"
   ]
  },
  {
   "cell_type": "code",
   "execution_count": null,
   "id": "64d6566f",
   "metadata": {},
   "outputs": [],
   "source": [
    "# state\n",
    "class BatsmanState(TypedDict):\n",
    "    runs: int\n",
    "    balls: int\n",
    "    fours: int\n",
    "    sixes: int\n",
    "\n",
    "    sr: float\n",
    "    bpb: float\n",
    "    b_per: float\n",
    "\n",
    "    summary: str"
   ]
  },
  {
   "cell_type": "code",
   "execution_count": 13,
   "id": "79180e03",
   "metadata": {},
   "outputs": [],
   "source": [
    "# Functions\n",
    "\n",
    "def calculate_sr(state: BatsmanState):\n",
    "    sr = (state['runs']/state['balls'])*100\n",
    "    return {'sr': sr}\n",
    "\n",
    "\n",
    "def calculate_bpb(state: BatsmanState):\n",
    "    bpb = state['balls']/(state['fours']+state['sixes'])\n",
    "    return {'bpb': bpb}\n",
    "\n",
    "\n",
    "def calculate_b_per(state: BatsmanState):\n",
    "    b_per = ((state['fours']*4+state['sixes']*6)/state['runs'])*100\n",
    "    return {'b_per': b_per}\n",
    "\n",
    "\n",
    "def summary(state: BatsmanState) -> BatsmanState:\n",
    "    summary = f\"\"\"\n",
    "        Strike Rate - {state['sr']} \\n\n",
    "        Balls per Boundry - {state['bpb']} \\n\n",
    "        Boundry Percentage - {state['b_per']}\n",
    "        \"\"\"\n",
    "    state['summary'] = summary\n",
    "    return state"
   ]
  },
  {
   "cell_type": "code",
   "execution_count": 14,
   "id": "0018313d",
   "metadata": {},
   "outputs": [
    {
     "data": {
      "image/png": "[encoded data removed]",
      "text/plain": [
       "<langgraph.graph.state.CompiledStateGraph object at 0x000001E15D49F710>"
      ]
     },
     "execution_count": 14,
     "metadata": {},
     "output_type": "execute_result"
    }
   ],
   "source": [
    "# graphs\n",
    "graphs = StateGraph(BatsmanState)\n",
    "\n",
    "# nodes\n",
    "graphs.add_node('calculate_sr', calculate_sr)\n",
    "graphs.add_node('calculate_bpb', calculate_bpb)\n",
    "graphs.add_node('calculate_b_per', calculate_b_per)\n",
    "graphs.add_node('summary', summary)\n",
    "\n",
    "# edges\n",
    "graphs.add_edge(START, 'calculate_sr')\n",
    "graphs.add_edge(START, 'calculate_bpb')\n",
    "graphs.add_edge(START, 'calculate_b_per')\n",
    "graphs.add_edge('calculate_sr', 'summary')\n",
    "graphs.add_edge('calculate_bpb', 'summary')\n",
    "graphs.add_edge('calculate_b_per', 'summary')\n",
    "graphs.add_edge('summary', END)\n",
    "# compile\n",
    "\n",
    "workflow = graphs.compile()\n",
    "workflow"
   ]
  },
  {
   "cell_type": "code",
   "execution_count": 15,
   "id": "748cab4c",
   "metadata": {},
   "outputs": [
    {
     "data": {
      "text/plain": [
       "{'runs': 100,\n",
       " 'balls': 50,\n",
       " 'fours': 6,\n",
       " 'sixes': 4,\n",
       " 'sr': 200.0,\n",
       " 'bpb': 5.0,\n",
       " 'b_per': 48.0,\n",
       " 'summary': '\\n        Strike Rate - 200.0 \\n\\n        Balls per Boundry - 5.0 \\n\\n        Boundry Percentage - 48.0\\n        '}"
      ]
     },
     "execution_count": 15,
     "metadata": {},
     "output_type": "execute_result"
    }
   ],
   "source": [
    "initial_state = {\n",
    "    'runs': 100,\n",
    "    'balls': 50,\n",
    "    'fours': 6,\n",
    "    'sixes': 4\n",
    "}\n",
    "final_state = workflow.invoke(initial_state)\n",
    "final_state"
   ]
  }
 ],
 "metadata": {
  "kernelspec": {
   "display_name": "venv",
   "language": "python",
   "name": "python3"
  },
  "language_info": {
   "codemirror_mode": {
    "name": "ipython",
    "version": 3
   },
   "file_extension": ".py",
   "mimetype": "text/x-python",
   "name": "python",
   "nbconvert_exporter": "python",
   "pygments_lexer": "ipython3",
   "version": "3.11.0"
  }
 },
 "nbformat": 4,
 "nbformat_minor": 5
}
